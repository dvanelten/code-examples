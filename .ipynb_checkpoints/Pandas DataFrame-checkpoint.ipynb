{
 "cells": [
  {
   "cell_type": "code",
   "execution_count": 270,
   "metadata": {
    "collapsed": true
   },
   "outputs": [],
   "source": [
    "import numpy as np"
   ]
  },
  {
   "cell_type": "code",
   "execution_count": 271,
   "metadata": {
    "collapsed": true
   },
   "outputs": [],
   "source": [
    "import pandas as pd"
   ]
  },
  {
   "cell_type": "code",
   "execution_count": 272,
   "metadata": {
    "collapsed": false
   },
   "outputs": [],
   "source": [
    "#csv-Datei einlesen\n",
    "response = pd.read_csv(\"/Users/dennisvanelten/instrument-response/famous-parameterization-simulation.csv\", index_col = 0)\n",
    "#index_col = 0 bedeutet, dass Spalte 0 als Zeilenbeschriftung verwendet werden soll"
   ]
  },
  {
   "cell_type": "code",
   "execution_count": 273,
   "metadata": {
    "collapsed": false
   },
   "outputs": [],
   "source": [
    "#Datei vollständig anzeigen\n",
    "#response"
   ]
  },
  {
   "cell_type": "code",
   "execution_count": 274,
   "metadata": {
    "collapsed": false
   },
   "outputs": [
    {
     "data": {
      "text/html": [
       "<div>\n",
       "<table border=\"1\" class=\"dataframe\">\n",
       "  <thead>\n",
       "    <tr style=\"text-align: right;\">\n",
       "      <th></th>\n",
       "      <th>phi</th>\n",
       "      <th>t_sipm</th>\n",
       "      <th>t_sipm_0</th>\n",
       "      <th>t_sipm_1</th>\n",
       "      <th>t_sipm_10</th>\n",
       "      <th>t_sipm_11</th>\n",
       "      <th>t_sipm_12</th>\n",
       "      <th>t_sipm_13</th>\n",
       "      <th>t_sipm_14</th>\n",
       "      <th>t_sipm_15</th>\n",
       "      <th>...</th>\n",
       "      <th>t_sipm_52_error</th>\n",
       "      <th>t_sipm_53_error</th>\n",
       "      <th>t_sipm_54_error</th>\n",
       "      <th>t_sipm_55_error</th>\n",
       "      <th>t_sipm_56_error</th>\n",
       "      <th>t_sipm_57_error</th>\n",
       "      <th>t_sipm_58_error</th>\n",
       "      <th>t_sipm_59_error</th>\n",
       "      <th>t_sipm_error</th>\n",
       "      <th>t_sipm_60_error</th>\n",
       "    </tr>\n",
       "  </thead>\n",
       "  <tbody>\n",
       "    <tr>\n",
       "      <th>0</th>\n",
       "      <td>0.785398</td>\n",
       "      <td>0.0787</td>\n",
       "      <td>0.0633</td>\n",
       "      <td>0.0042</td>\n",
       "      <td>0.0000</td>\n",
       "      <td>0.0</td>\n",
       "      <td>0.0</td>\n",
       "      <td>0.0</td>\n",
       "      <td>0.0000</td>\n",
       "      <td>0.0000</td>\n",
       "      <td>...</td>\n",
       "      <td>0.0</td>\n",
       "      <td>0.0</td>\n",
       "      <td>0.0</td>\n",
       "      <td>0.0</td>\n",
       "      <td>0.0</td>\n",
       "      <td>0.0</td>\n",
       "      <td>0.0</td>\n",
       "      <td>0.0</td>\n",
       "      <td>0.0</td>\n",
       "      <td>0.000141</td>\n",
       "    </tr>\n",
       "    <tr>\n",
       "      <th>1</th>\n",
       "      <td>2.356194</td>\n",
       "      <td>0.0775</td>\n",
       "      <td>0.0639</td>\n",
       "      <td>0.0000</td>\n",
       "      <td>0.0000</td>\n",
       "      <td>0.0</td>\n",
       "      <td>0.0</td>\n",
       "      <td>0.0</td>\n",
       "      <td>0.0001</td>\n",
       "      <td>0.0001</td>\n",
       "      <td>...</td>\n",
       "      <td>0.0</td>\n",
       "      <td>0.0</td>\n",
       "      <td>0.0</td>\n",
       "      <td>0.0</td>\n",
       "      <td>0.0</td>\n",
       "      <td>0.0</td>\n",
       "      <td>0.0</td>\n",
       "      <td>0.0</td>\n",
       "      <td>0.0</td>\n",
       "      <td>0.000000</td>\n",
       "    </tr>\n",
       "    <tr>\n",
       "      <th>2</th>\n",
       "      <td>3.926991</td>\n",
       "      <td>0.0773</td>\n",
       "      <td>0.0634</td>\n",
       "      <td>0.0000</td>\n",
       "      <td>0.0001</td>\n",
       "      <td>0.0</td>\n",
       "      <td>0.0</td>\n",
       "      <td>0.0</td>\n",
       "      <td>0.0000</td>\n",
       "      <td>0.0000</td>\n",
       "      <td>...</td>\n",
       "      <td>0.0</td>\n",
       "      <td>0.0</td>\n",
       "      <td>0.0</td>\n",
       "      <td>0.0</td>\n",
       "      <td>0.0</td>\n",
       "      <td>0.0</td>\n",
       "      <td>0.0</td>\n",
       "      <td>0.0</td>\n",
       "      <td>0.0</td>\n",
       "      <td>0.000100</td>\n",
       "    </tr>\n",
       "    <tr>\n",
       "      <th>3</th>\n",
       "      <td>5.497787</td>\n",
       "      <td>0.0746</td>\n",
       "      <td>0.0608</td>\n",
       "      <td>0.0050</td>\n",
       "      <td>0.0001</td>\n",
       "      <td>0.0</td>\n",
       "      <td>0.0</td>\n",
       "      <td>0.0</td>\n",
       "      <td>0.0000</td>\n",
       "      <td>0.0000</td>\n",
       "      <td>...</td>\n",
       "      <td>0.0</td>\n",
       "      <td>0.0</td>\n",
       "      <td>0.0</td>\n",
       "      <td>0.0</td>\n",
       "      <td>0.0</td>\n",
       "      <td>0.0</td>\n",
       "      <td>0.0</td>\n",
       "      <td>0.0</td>\n",
       "      <td>0.0</td>\n",
       "      <td>0.000000</td>\n",
       "    </tr>\n",
       "    <tr>\n",
       "      <th>4</th>\n",
       "      <td>0.392699</td>\n",
       "      <td>0.0814</td>\n",
       "      <td>0.0550</td>\n",
       "      <td>0.0144</td>\n",
       "      <td>0.0000</td>\n",
       "      <td>0.0</td>\n",
       "      <td>0.0</td>\n",
       "      <td>0.0</td>\n",
       "      <td>0.0000</td>\n",
       "      <td>0.0000</td>\n",
       "      <td>...</td>\n",
       "      <td>0.0</td>\n",
       "      <td>0.0</td>\n",
       "      <td>0.0</td>\n",
       "      <td>0.0</td>\n",
       "      <td>0.0</td>\n",
       "      <td>0.0</td>\n",
       "      <td>0.0</td>\n",
       "      <td>0.0</td>\n",
       "      <td>0.0</td>\n",
       "      <td>0.000000</td>\n",
       "    </tr>\n",
       "  </tbody>\n",
       "</table>\n",
       "<p>5 rows × 129 columns</p>\n",
       "</div>"
      ],
      "text/plain": [
       "        phi  t_sipm  t_sipm_0  t_sipm_1  t_sipm_10  t_sipm_11  t_sipm_12  \\\n",
       "0  0.785398  0.0787    0.0633    0.0042     0.0000        0.0        0.0   \n",
       "1  2.356194  0.0775    0.0639    0.0000     0.0000        0.0        0.0   \n",
       "2  3.926991  0.0773    0.0634    0.0000     0.0001        0.0        0.0   \n",
       "3  5.497787  0.0746    0.0608    0.0050     0.0001        0.0        0.0   \n",
       "4  0.392699  0.0814    0.0550    0.0144     0.0000        0.0        0.0   \n",
       "\n",
       "   t_sipm_13  t_sipm_14  t_sipm_15       ...         t_sipm_52_error  \\\n",
       "0        0.0     0.0000     0.0000       ...                     0.0   \n",
       "1        0.0     0.0001     0.0001       ...                     0.0   \n",
       "2        0.0     0.0000     0.0000       ...                     0.0   \n",
       "3        0.0     0.0000     0.0000       ...                     0.0   \n",
       "4        0.0     0.0000     0.0000       ...                     0.0   \n",
       "\n",
       "   t_sipm_53_error  t_sipm_54_error  t_sipm_55_error  t_sipm_56_error  \\\n",
       "0              0.0              0.0              0.0              0.0   \n",
       "1              0.0              0.0              0.0              0.0   \n",
       "2              0.0              0.0              0.0              0.0   \n",
       "3              0.0              0.0              0.0              0.0   \n",
       "4              0.0              0.0              0.0              0.0   \n",
       "\n",
       "   t_sipm_57_error  t_sipm_58_error  t_sipm_59_error  t_sipm_error  \\\n",
       "0              0.0              0.0              0.0           0.0   \n",
       "1              0.0              0.0              0.0           0.0   \n",
       "2              0.0              0.0              0.0           0.0   \n",
       "3              0.0              0.0              0.0           0.0   \n",
       "4              0.0              0.0              0.0           0.0   \n",
       "\n",
       "   t_sipm_60_error  \n",
       "0         0.000141  \n",
       "1         0.000000  \n",
       "2         0.000100  \n",
       "3         0.000000  \n",
       "4         0.000000  \n",
       "\n",
       "[5 rows x 129 columns]"
      ]
     },
     "execution_count": 274,
     "metadata": {},
     "output_type": "execute_result"
    }
   ],
   "source": [
    "#Ausgabe der obersten n(5) Zeilen; für ganze Länge: $ head(len(response))\n",
    "response.head(5)"
   ]
  },
  {
   "cell_type": "code",
   "execution_count": 275,
   "metadata": {
    "collapsed": false
   },
   "outputs": [
    {
     "data": {
      "text/html": [
       "<div>\n",
       "<table border=\"1\" class=\"dataframe\">\n",
       "  <thead>\n",
       "    <tr style=\"text-align: right;\">\n",
       "      <th></th>\n",
       "      <th>t_sipm</th>\n",
       "      <th>t_sipm_0</th>\n",
       "      <th>t_sipm_1</th>\n",
       "      <th>t_sipm_10</th>\n",
       "      <th>t_sipm_11</th>\n",
       "      <th>t_sipm_12</th>\n",
       "    </tr>\n",
       "  </thead>\n",
       "  <tbody>\n",
       "    <tr>\n",
       "      <th>2</th>\n",
       "      <td>0.0773</td>\n",
       "      <td>0.0634</td>\n",
       "      <td>0.0000</td>\n",
       "      <td>0.0001</td>\n",
       "      <td>0.0</td>\n",
       "      <td>0.0</td>\n",
       "    </tr>\n",
       "    <tr>\n",
       "      <th>3</th>\n",
       "      <td>0.0746</td>\n",
       "      <td>0.0608</td>\n",
       "      <td>0.0050</td>\n",
       "      <td>0.0001</td>\n",
       "      <td>0.0</td>\n",
       "      <td>0.0</td>\n",
       "    </tr>\n",
       "    <tr>\n",
       "      <th>4</th>\n",
       "      <td>0.0814</td>\n",
       "      <td>0.0550</td>\n",
       "      <td>0.0144</td>\n",
       "      <td>0.0000</td>\n",
       "      <td>0.0</td>\n",
       "      <td>0.0</td>\n",
       "    </tr>\n",
       "  </tbody>\n",
       "</table>\n",
       "</div>"
      ],
      "text/plain": [
       "   t_sipm  t_sipm_0  t_sipm_1  t_sipm_10  t_sipm_11  t_sipm_12\n",
       "2  0.0773    0.0634    0.0000     0.0001        0.0        0.0\n",
       "3  0.0746    0.0608    0.0050     0.0001        0.0        0.0\n",
       "4  0.0814    0.0550    0.0144     0.0000        0.0        0.0"
      ]
     },
     "execution_count": 275,
     "metadata": {},
     "output_type": "execute_result"
    }
   ],
   "source": [
    "#Ausgabe von Zeile 2 bis 5 (5 nicht inklusive) und der zugeörigen Spalten 1 bis 7 (7 nicht inklusive)\n",
    "selected_rows = response.iloc[2:5,1:7] \n",
    "selected_rows"
   ]
  },
  {
   "cell_type": "code",
   "execution_count": 276,
   "metadata": {
    "collapsed": false
   },
   "outputs": [
    {
     "data": {
      "text/plain": [
       "array(['t_sipm', 't_sipm_0', 't_sipm_1', 't_sipm_10', 't_sipm_11',\n",
       "       't_sipm_12'], dtype=object)"
      ]
     },
     "execution_count": 276,
     "metadata": {},
     "output_type": "execute_result"
    }
   ],
   "source": [
    "#Gebe alle Zeilennamen von links nach rechts aus\n",
    "selected_rows.columns.values"
   ]
  },
  {
   "cell_type": "code",
   "execution_count": 277,
   "metadata": {
    "collapsed": false
   },
   "outputs": [
    {
     "data": {
      "text/plain": [
       "2    0.1408\n",
       "3    0.1405\n",
       "4    0.1508\n",
       "dtype: float64"
      ]
     },
     "execution_count": 277,
     "metadata": {},
     "output_type": "execute_result"
    }
   ],
   "source": [
    "#Summe der Werte entlang der Reihe (axis=1)\n",
    "sum_row = selected_rows.sum(axis=1) \n",
    "sum_row"
   ]
  },
  {
   "cell_type": "code",
   "execution_count": 278,
   "metadata": {
    "collapsed": false
   },
   "outputs": [
    {
     "data": {
      "text/plain": [
       "t_sipm       0.2333\n",
       "t_sipm_0     0.1792\n",
       "t_sipm_1     0.0194\n",
       "t_sipm_10    0.0002\n",
       "t_sipm_11    0.0000\n",
       "t_sipm_12    0.0000\n",
       "dtype: float64"
      ]
     },
     "execution_count": 278,
     "metadata": {},
     "output_type": "execute_result"
    }
   ],
   "source": [
    "#Summe der Werte entlang der Zeile (axis=0)\n",
    "sum_column = selected_rows.sum(axis=0)\n",
    "sum_column"
   ]
  },
  {
   "cell_type": "code",
   "execution_count": 279,
   "metadata": {
    "collapsed": false
   },
   "outputs": [
    {
     "data": {
      "text/html": [
       "<div>\n",
       "<table border=\"1\" class=\"dataframe\">\n",
       "  <thead>\n",
       "    <tr style=\"text-align: right;\">\n",
       "      <th></th>\n",
       "      <th>t_sipm</th>\n",
       "      <th>t_sipm_0</th>\n",
       "      <th>t_sipm_1</th>\n",
       "      <th>t_sipm_10</th>\n",
       "      <th>t_sipm_11</th>\n",
       "      <th>t_sipm_12</th>\n",
       "      <th>chosen_titel</th>\n",
       "    </tr>\n",
       "  </thead>\n",
       "  <tbody>\n",
       "    <tr>\n",
       "      <th>2</th>\n",
       "      <td>0.0773</td>\n",
       "      <td>0.0634</td>\n",
       "      <td>0.0000</td>\n",
       "      <td>0.0001</td>\n",
       "      <td>0.0</td>\n",
       "      <td>0.0</td>\n",
       "      <td>0.1408</td>\n",
       "    </tr>\n",
       "    <tr>\n",
       "      <th>3</th>\n",
       "      <td>0.0746</td>\n",
       "      <td>0.0608</td>\n",
       "      <td>0.0050</td>\n",
       "      <td>0.0001</td>\n",
       "      <td>0.0</td>\n",
       "      <td>0.0</td>\n",
       "      <td>0.1405</td>\n",
       "    </tr>\n",
       "    <tr>\n",
       "      <th>4</th>\n",
       "      <td>0.0814</td>\n",
       "      <td>0.0550</td>\n",
       "      <td>0.0144</td>\n",
       "      <td>0.0000</td>\n",
       "      <td>0.0</td>\n",
       "      <td>0.0</td>\n",
       "      <td>0.1508</td>\n",
       "    </tr>\n",
       "  </tbody>\n",
       "</table>\n",
       "</div>"
      ],
      "text/plain": [
       "   t_sipm  t_sipm_0  t_sipm_1  t_sipm_10  t_sipm_11  t_sipm_12  chosen_titel\n",
       "2  0.0773    0.0634    0.0000     0.0001        0.0        0.0        0.1408\n",
       "3  0.0746    0.0608    0.0050     0.0001        0.0        0.0        0.1405\n",
       "4  0.0814    0.0550    0.0144     0.0000        0.0        0.0        0.1508"
      ]
     },
     "execution_count": 279,
     "metadata": {},
     "output_type": "execute_result"
    }
   ],
   "source": [
    "#Füge Zeile hinzu und vergebe Zeilenname\n",
    "selected_rows['chosen_titel'] = sum_row\n",
    "selected_rows"
   ]
  },
  {
   "cell_type": "code",
   "execution_count": 280,
   "metadata": {
    "collapsed": false
   },
   "outputs": [
    {
     "data": {
      "text/html": [
       "<div>\n",
       "<table border=\"1\" class=\"dataframe\">\n",
       "  <thead>\n",
       "    <tr style=\"text-align: right;\">\n",
       "      <th></th>\n",
       "      <th>t_sipm</th>\n",
       "      <th>t_sipm_0</th>\n",
       "      <th>t_sipm_1</th>\n",
       "      <th>t_sipm_10</th>\n",
       "      <th>t_sipm_11</th>\n",
       "      <th>t_sipm_12</th>\n",
       "    </tr>\n",
       "  </thead>\n",
       "  <tbody>\n",
       "    <tr>\n",
       "      <th>2</th>\n",
       "      <td>0.0773</td>\n",
       "      <td>0.0634</td>\n",
       "      <td>0.0000</td>\n",
       "      <td>0.0001</td>\n",
       "      <td>0.0</td>\n",
       "      <td>0.0</td>\n",
       "    </tr>\n",
       "    <tr>\n",
       "      <th>3</th>\n",
       "      <td>0.0746</td>\n",
       "      <td>0.0608</td>\n",
       "      <td>0.0050</td>\n",
       "      <td>0.0001</td>\n",
       "      <td>0.0</td>\n",
       "      <td>0.0</td>\n",
       "    </tr>\n",
       "    <tr>\n",
       "      <th>4</th>\n",
       "      <td>0.0814</td>\n",
       "      <td>0.0550</td>\n",
       "      <td>0.0144</td>\n",
       "      <td>0.0000</td>\n",
       "      <td>0.0</td>\n",
       "      <td>0.0</td>\n",
       "    </tr>\n",
       "  </tbody>\n",
       "</table>\n",
       "</div>"
      ],
      "text/plain": [
       "   t_sipm  t_sipm_0  t_sipm_1  t_sipm_10  t_sipm_11  t_sipm_12\n",
       "2  0.0773    0.0634    0.0000     0.0001        0.0        0.0\n",
       "3  0.0746    0.0608    0.0050     0.0001        0.0        0.0\n",
       "4  0.0814    0.0550    0.0144     0.0000        0.0        0.0"
      ]
     },
     "execution_count": 280,
     "metadata": {},
     "output_type": "execute_result"
    }
   ],
   "source": [
    "#Entferne Zeile mit bestimmten Zeilennamen\n",
    "del selected_rows['chosen_titel']\n",
    "selected_rows"
   ]
  },
  {
   "cell_type": "code",
   "execution_count": 281,
   "metadata": {
    "collapsed": false
   },
   "outputs": [
    {
     "data": {
      "text/plain": [
       "0.0050000000000000001"
      ]
     },
     "execution_count": 281,
     "metadata": {},
     "output_type": "execute_result"
    }
   ],
   "source": [
    "#Erhalte Wert aus einem bestimmten Feld\n",
    "selected_rows.get_value(3,'t_sipm_1')\n"
   ]
  },
  {
   "cell_type": "code",
   "execution_count": 282,
   "metadata": {
    "collapsed": false
   },
   "outputs": [
    {
     "data": {
      "text/plain": [
       "t_sipm              0.0746\n",
       "t_sipm_0            0.0608\n",
       "t_sipm_1            0.0050\n",
       "t_sipm_10           0.0001\n",
       "t_sipm_11           0.0000\n",
       "t_sipm_12           0.0000\n",
       "rest_probability    0.8595\n",
       "Name: 3, dtype: float64"
      ]
     },
     "execution_count": 282,
     "metadata": {},
     "output_type": "execute_result"
    }
   ],
   "source": [
    "#Wähle eine bestimmte Reihe mit ausgewählten Zeilen aus, berechne 1-sum() und füge diesen Wert hinzu\n",
    "selected_rows_2 = selected_rows.iloc[1,0:6]\n",
    "rest_probability = 1 - selected_rows_2.sum(axis=0) \n",
    "selected_rows_2['rest_probability'] = rest_probability\n",
    "selected_rows_2"
   ]
  },
  {
   "cell_type": "code",
   "execution_count": 296,
   "metadata": {
    "collapsed": false
   },
   "outputs": [
    {
     "data": {
      "text/plain": [
       "array([ 0.8595,  0.8595,  0.0746,  0.8595,  0.0608,  0.8595])"
      ]
     },
     "execution_count": 296,
     "metadata": {},
     "output_type": "execute_result"
    }
   ],
   "source": [
    "#Ziehe mit Wahrscheinlichkeit, die den Zelleninhalten entsprechen eine Zahl aus der Reihe (zu 85% rest_probability)\n",
    "n=6 \n",
    "chosen_value = np.random.choice(selected_rows_2,n,p=selected_rows_2)   #n gibt an, wie oft ein Wert aus der Reihe gezogen wird\n",
    "chosen_value"
   ]
  },
  {
   "cell_type": "code",
   "execution_count": 297,
   "metadata": {
    "collapsed": false
   },
   "outputs": [
    {
     "data": {
      "text/html": [
       "<div>\n",
       "<table border=\"1\" class=\"dataframe\">\n",
       "  <thead>\n",
       "    <tr style=\"text-align: right;\">\n",
       "      <th></th>\n",
       "      <th>0</th>\n",
       "    </tr>\n",
       "  </thead>\n",
       "  <tbody>\n",
       "    <tr>\n",
       "      <th>0</th>\n",
       "      <td>0.8595</td>\n",
       "    </tr>\n",
       "    <tr>\n",
       "      <th>1</th>\n",
       "      <td>0.8595</td>\n",
       "    </tr>\n",
       "    <tr>\n",
       "      <th>2</th>\n",
       "      <td>0.0746</td>\n",
       "    </tr>\n",
       "    <tr>\n",
       "      <th>3</th>\n",
       "      <td>0.8595</td>\n",
       "    </tr>\n",
       "    <tr>\n",
       "      <th>4</th>\n",
       "      <td>0.0608</td>\n",
       "    </tr>\n",
       "    <tr>\n",
       "      <th>5</th>\n",
       "      <td>0.8595</td>\n",
       "    </tr>\n",
       "  </tbody>\n",
       "</table>\n",
       "</div>"
      ],
      "text/plain": [
       "        0\n",
       "0  0.8595\n",
       "1  0.8595\n",
       "2  0.0746\n",
       "3  0.8595\n",
       "4  0.0608\n",
       "5  0.8595"
      ]
     },
     "execution_count": 297,
     "metadata": {},
     "output_type": "execute_result"
    }
   ],
   "source": [
    "#Füge Werte als Liste in ein DataFrame\n",
    "df = pd.DataFrame(list(chosen_value))\n",
    "df"
   ]
  },
  {
   "cell_type": "code",
   "execution_count": 298,
   "metadata": {
    "collapsed": false
   },
   "outputs": [
    {
     "data": {
      "text/html": [
       "<div>\n",
       "<table border=\"1\" class=\"dataframe\">\n",
       "  <thead>\n",
       "    <tr style=\"text-align: right;\">\n",
       "      <th></th>\n",
       "      <th>new_name</th>\n",
       "    </tr>\n",
       "  </thead>\n",
       "  <tbody>\n",
       "    <tr>\n",
       "      <th>0</th>\n",
       "      <td>0.8595</td>\n",
       "    </tr>\n",
       "    <tr>\n",
       "      <th>1</th>\n",
       "      <td>0.8595</td>\n",
       "    </tr>\n",
       "    <tr>\n",
       "      <th>2</th>\n",
       "      <td>0.0746</td>\n",
       "    </tr>\n",
       "    <tr>\n",
       "      <th>3</th>\n",
       "      <td>0.8595</td>\n",
       "    </tr>\n",
       "    <tr>\n",
       "      <th>4</th>\n",
       "      <td>0.0608</td>\n",
       "    </tr>\n",
       "    <tr>\n",
       "      <th>5</th>\n",
       "      <td>0.8595</td>\n",
       "    </tr>\n",
       "  </tbody>\n",
       "</table>\n",
       "</div>"
      ],
      "text/plain": [
       "   new_name\n",
       "0    0.8595\n",
       "1    0.8595\n",
       "2    0.0746\n",
       "3    0.8595\n",
       "4    0.0608\n",
       "5    0.8595"
      ]
     },
     "execution_count": 298,
     "metadata": {},
     "output_type": "execute_result"
    }
   ],
   "source": [
    "#Zeilenname umbenennen\n",
    "df=df.rename(columns = {0:'new_name'})\n",
    "df"
   ]
  },
  {
   "cell_type": "code",
   "execution_count": 302,
   "metadata": {
    "collapsed": false
   },
   "outputs": [
    {
     "data": {
      "text/plain": [
       "0    False\n",
       "1     True\n",
       "2    False\n",
       "3     True\n",
       "4    False\n",
       "5     True\n",
       "Name: boolean, dtype: bool"
      ]
     },
     "execution_count": 302,
     "metadata": {},
     "output_type": "execute_result"
    }
   ],
   "source": [
    "#Abfrage, ob zufällig gezogene Zahl im Bereich [0,1] für jede Reihe von df kleiner als Eintrag ist\n",
    "df['boolean'] = np.random.uniform(0, 1, len(df)) <= df['new_name']\n",
    "df['boolean']"
   ]
  },
  {
   "cell_type": "code",
   "execution_count": 305,
   "metadata": {
    "collapsed": false
   },
   "outputs": [
    {
     "data": {
      "text/html": [
       "<div>\n",
       "<table border=\"1\" class=\"dataframe\">\n",
       "  <thead>\n",
       "    <tr style=\"text-align: right;\">\n",
       "      <th></th>\n",
       "      <th>new_name</th>\n",
       "      <th>boolean</th>\n",
       "    </tr>\n",
       "  </thead>\n",
       "  <tbody>\n",
       "    <tr>\n",
       "      <th>1</th>\n",
       "      <td>0.8595</td>\n",
       "      <td>True</td>\n",
       "    </tr>\n",
       "    <tr>\n",
       "      <th>3</th>\n",
       "      <td>0.8595</td>\n",
       "      <td>True</td>\n",
       "    </tr>\n",
       "    <tr>\n",
       "      <th>5</th>\n",
       "      <td>0.8595</td>\n",
       "      <td>True</td>\n",
       "    </tr>\n",
       "  </tbody>\n",
       "</table>\n",
       "</div>"
      ],
      "text/plain": [
       "   new_name boolean\n",
       "1    0.8595    True\n",
       "3    0.8595    True\n",
       "5    0.8595    True"
      ]
     },
     "execution_count": 305,
     "metadata": {},
     "output_type": "execute_result"
    }
   ],
   "source": [
    "#erstellt DataFrame aus df und df['boolean'], mit allen Zeilen, die True sind\n",
    "df_bool_true = df[df['boolean']]\n",
    "df_bool_true"
   ]
  },
  {
   "cell_type": "code",
   "execution_count": 306,
   "metadata": {
    "collapsed": false
   },
   "outputs": [
    {
     "data": {
      "text/html": [
       "<div>\n",
       "<table border=\"1\" class=\"dataframe\">\n",
       "  <thead>\n",
       "    <tr style=\"text-align: right;\">\n",
       "      <th></th>\n",
       "      <th>t_sipm</th>\n",
       "      <th>t_sipm_0</th>\n",
       "      <th>t_sipm_1</th>\n",
       "      <th>t_sipm_10</th>\n",
       "      <th>t_sipm_11</th>\n",
       "      <th>t_sipm_12</th>\n",
       "      <th>0</th>\n",
       "    </tr>\n",
       "  </thead>\n",
       "  <tbody>\n",
       "    <tr>\n",
       "      <th>2</th>\n",
       "      <td>0.0773</td>\n",
       "      <td>0.0634</td>\n",
       "      <td>0.0000</td>\n",
       "      <td>0.0001</td>\n",
       "      <td>0.0</td>\n",
       "      <td>0.0</td>\n",
       "      <td>NaN</td>\n",
       "    </tr>\n",
       "    <tr>\n",
       "      <th>3</th>\n",
       "      <td>0.0746</td>\n",
       "      <td>0.0608</td>\n",
       "      <td>0.0050</td>\n",
       "      <td>0.0001</td>\n",
       "      <td>0.0</td>\n",
       "      <td>0.0</td>\n",
       "      <td>NaN</td>\n",
       "    </tr>\n",
       "    <tr>\n",
       "      <th>4</th>\n",
       "      <td>0.0814</td>\n",
       "      <td>0.0550</td>\n",
       "      <td>0.0144</td>\n",
       "      <td>0.0000</td>\n",
       "      <td>0.0</td>\n",
       "      <td>0.0</td>\n",
       "      <td>NaN</td>\n",
       "    </tr>\n",
       "    <tr>\n",
       "      <th>t_sipm</th>\n",
       "      <td>NaN</td>\n",
       "      <td>NaN</td>\n",
       "      <td>NaN</td>\n",
       "      <td>NaN</td>\n",
       "      <td>NaN</td>\n",
       "      <td>NaN</td>\n",
       "      <td>0.2333</td>\n",
       "    </tr>\n",
       "    <tr>\n",
       "      <th>t_sipm_0</th>\n",
       "      <td>NaN</td>\n",
       "      <td>NaN</td>\n",
       "      <td>NaN</td>\n",
       "      <td>NaN</td>\n",
       "      <td>NaN</td>\n",
       "      <td>NaN</td>\n",
       "      <td>0.1792</td>\n",
       "    </tr>\n",
       "    <tr>\n",
       "      <th>t_sipm_1</th>\n",
       "      <td>NaN</td>\n",
       "      <td>NaN</td>\n",
       "      <td>NaN</td>\n",
       "      <td>NaN</td>\n",
       "      <td>NaN</td>\n",
       "      <td>NaN</td>\n",
       "      <td>0.0194</td>\n",
       "    </tr>\n",
       "    <tr>\n",
       "      <th>t_sipm_10</th>\n",
       "      <td>NaN</td>\n",
       "      <td>NaN</td>\n",
       "      <td>NaN</td>\n",
       "      <td>NaN</td>\n",
       "      <td>NaN</td>\n",
       "      <td>NaN</td>\n",
       "      <td>0.0002</td>\n",
       "    </tr>\n",
       "    <tr>\n",
       "      <th>t_sipm_11</th>\n",
       "      <td>NaN</td>\n",
       "      <td>NaN</td>\n",
       "      <td>NaN</td>\n",
       "      <td>NaN</td>\n",
       "      <td>NaN</td>\n",
       "      <td>NaN</td>\n",
       "      <td>0.0000</td>\n",
       "    </tr>\n",
       "    <tr>\n",
       "      <th>t_sipm_12</th>\n",
       "      <td>NaN</td>\n",
       "      <td>NaN</td>\n",
       "      <td>NaN</td>\n",
       "      <td>NaN</td>\n",
       "      <td>NaN</td>\n",
       "      <td>NaN</td>\n",
       "      <td>0.0000</td>\n",
       "    </tr>\n",
       "  </tbody>\n",
       "</table>\n",
       "</div>"
      ],
      "text/plain": [
       "           t_sipm  t_sipm_0  t_sipm_1  t_sipm_10  t_sipm_11  t_sipm_12       0\n",
       "2          0.0773    0.0634    0.0000     0.0001        0.0        0.0     NaN\n",
       "3          0.0746    0.0608    0.0050     0.0001        0.0        0.0     NaN\n",
       "4          0.0814    0.0550    0.0144     0.0000        0.0        0.0     NaN\n",
       "t_sipm        NaN       NaN       NaN        NaN        NaN        NaN  0.2333\n",
       "t_sipm_0      NaN       NaN       NaN        NaN        NaN        NaN  0.1792\n",
       "t_sipm_1      NaN       NaN       NaN        NaN        NaN        NaN  0.0194\n",
       "t_sipm_10     NaN       NaN       NaN        NaN        NaN        NaN  0.0002\n",
       "t_sipm_11     NaN       NaN       NaN        NaN        NaN        NaN  0.0000\n",
       "t_sipm_12     NaN       NaN       NaN        NaN        NaN        NaN  0.0000"
      ]
     },
     "execution_count": 306,
     "metadata": {},
     "output_type": "execute_result"
    }
   ],
   "source": [
    "#DataFrames miteinander verketten\n",
    "concatenate = pd.concat([selected_rows,sum_column],axis=0)\n",
    "concatenate"
   ]
  },
  {
   "cell_type": "code",
   "execution_count": 307,
   "metadata": {
    "collapsed": false
   },
   "outputs": [
    {
     "data": {
      "text/html": [
       "<div>\n",
       "<table border=\"1\" class=\"dataframe\">\n",
       "  <thead>\n",
       "    <tr style=\"text-align: right;\">\n",
       "      <th></th>\n",
       "      <th>t_sipm</th>\n",
       "      <th>t_sipm_0</th>\n",
       "      <th>t_sipm_1</th>\n",
       "      <th>t_sipm_10</th>\n",
       "      <th>t_sipm_11</th>\n",
       "      <th>t_sipm_12</th>\n",
       "      <th>0</th>\n",
       "    </tr>\n",
       "  </thead>\n",
       "  <tbody>\n",
       "    <tr>\n",
       "      <th>2</th>\n",
       "      <td>0.0773</td>\n",
       "      <td>0.0634</td>\n",
       "      <td>0.0000</td>\n",
       "      <td>0.0001</td>\n",
       "      <td>0.0</td>\n",
       "      <td>0.0</td>\n",
       "      <td>NaN</td>\n",
       "    </tr>\n",
       "    <tr>\n",
       "      <th>3</th>\n",
       "      <td>0.0746</td>\n",
       "      <td>0.0608</td>\n",
       "      <td>0.0050</td>\n",
       "      <td>0.0001</td>\n",
       "      <td>0.0</td>\n",
       "      <td>0.0</td>\n",
       "      <td>NaN</td>\n",
       "    </tr>\n",
       "    <tr>\n",
       "      <th>4</th>\n",
       "      <td>0.0814</td>\n",
       "      <td>0.0550</td>\n",
       "      <td>0.0144</td>\n",
       "      <td>0.0000</td>\n",
       "      <td>0.0</td>\n",
       "      <td>0.0</td>\n",
       "      <td>NaN</td>\n",
       "    </tr>\n",
       "    <tr>\n",
       "      <th>t_sipm</th>\n",
       "      <td>NaN</td>\n",
       "      <td>NaN</td>\n",
       "      <td>NaN</td>\n",
       "      <td>NaN</td>\n",
       "      <td>NaN</td>\n",
       "      <td>NaN</td>\n",
       "      <td>0.2333</td>\n",
       "    </tr>\n",
       "    <tr>\n",
       "      <th>t_sipm_0</th>\n",
       "      <td>NaN</td>\n",
       "      <td>NaN</td>\n",
       "      <td>NaN</td>\n",
       "      <td>NaN</td>\n",
       "      <td>NaN</td>\n",
       "      <td>NaN</td>\n",
       "      <td>0.1792</td>\n",
       "    </tr>\n",
       "    <tr>\n",
       "      <th>t_sipm_1</th>\n",
       "      <td>NaN</td>\n",
       "      <td>NaN</td>\n",
       "      <td>NaN</td>\n",
       "      <td>NaN</td>\n",
       "      <td>NaN</td>\n",
       "      <td>NaN</td>\n",
       "      <td>0.0194</td>\n",
       "    </tr>\n",
       "    <tr>\n",
       "      <th>t_sipm_10</th>\n",
       "      <td>NaN</td>\n",
       "      <td>NaN</td>\n",
       "      <td>10.0000</td>\n",
       "      <td>NaN</td>\n",
       "      <td>NaN</td>\n",
       "      <td>NaN</td>\n",
       "      <td>0.0002</td>\n",
       "    </tr>\n",
       "    <tr>\n",
       "      <th>t_sipm_11</th>\n",
       "      <td>NaN</td>\n",
       "      <td>NaN</td>\n",
       "      <td>NaN</td>\n",
       "      <td>NaN</td>\n",
       "      <td>NaN</td>\n",
       "      <td>NaN</td>\n",
       "      <td>0.0000</td>\n",
       "    </tr>\n",
       "    <tr>\n",
       "      <th>t_sipm_12</th>\n",
       "      <td>NaN</td>\n",
       "      <td>NaN</td>\n",
       "      <td>NaN</td>\n",
       "      <td>NaN</td>\n",
       "      <td>NaN</td>\n",
       "      <td>NaN</td>\n",
       "      <td>0.0000</td>\n",
       "    </tr>\n",
       "  </tbody>\n",
       "</table>\n",
       "</div>"
      ],
      "text/plain": [
       "           t_sipm  t_sipm_0  t_sipm_1  t_sipm_10  t_sipm_11  t_sipm_12       0\n",
       "2          0.0773    0.0634    0.0000     0.0001        0.0        0.0     NaN\n",
       "3          0.0746    0.0608    0.0050     0.0001        0.0        0.0     NaN\n",
       "4          0.0814    0.0550    0.0144     0.0000        0.0        0.0     NaN\n",
       "t_sipm        NaN       NaN       NaN        NaN        NaN        NaN  0.2333\n",
       "t_sipm_0      NaN       NaN       NaN        NaN        NaN        NaN  0.1792\n",
       "t_sipm_1      NaN       NaN       NaN        NaN        NaN        NaN  0.0194\n",
       "t_sipm_10     NaN       NaN   10.0000        NaN        NaN        NaN  0.0002\n",
       "t_sipm_11     NaN       NaN       NaN        NaN        NaN        NaN  0.0000\n",
       "t_sipm_12     NaN       NaN       NaN        NaN        NaN        NaN  0.0000"
      ]
     },
     "execution_count": 307,
     "metadata": {},
     "output_type": "execute_result"
    }
   ],
   "source": [
    "#lege Wert für bestimmte Zelle fest\n",
    "concatenate.set_value('t_sipm_10','t_sipm_1',10)"
   ]
  }
 ],
 "metadata": {
  "kernelspec": {
   "display_name": "Python [Root]",
   "language": "python",
   "name": "Python [Root]"
  },
  "language_info": {
   "codemirror_mode": {
    "name": "ipython",
    "version": 3
   },
   "file_extension": ".py",
   "mimetype": "text/x-python",
   "name": "python",
   "nbconvert_exporter": "python",
   "pygments_lexer": "ipython3",
   "version": "3.5.2"
  }
 },
 "nbformat": 4,
 "nbformat_minor": 0
}
